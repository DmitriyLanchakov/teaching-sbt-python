{
 "metadata": {
  "name": "",
  "signature": "sha256:0d57ab082e0719599cd1ac9f63504f21aac254d36f19b5bca776d6ce853c1e5a"
 },
 "nbformat": 3,
 "nbformat_minor": 0,
 "worksheets": [
  {
   "cells": [
    {
     "cell_type": "heading",
     "level": 1,
     "metadata": {},
     "source": [
      "\u041e\u0442\u0432\u0435\u0442\u044b \u043d\u0430 \u0432\u043e\u043f\u0440\u043e\u0441\u044b"
     ]
    },
    {
     "cell_type": "code",
     "collapsed": false,
     "input": [
      "file_path = \"C:/Users/Xead/Documents/SimpleWikiCrawler/ngraph.txt\"\n",
      "\n",
      "fl = open(file_path, \"r\")\n",
      "print fl.readline()"
     ],
     "language": "python",
     "metadata": {},
     "outputs": [
      {
       "output_type": "stream",
       "stream": "stdout",
       "text": [
        "0:5,2,10,7,8,21,17,0,0,0,0,8,1\n",
        "\n"
       ]
      }
     ],
     "prompt_number": 22
    },
    {
     "cell_type": "code",
     "collapsed": false,
     "input": [
      "import os\n",
      "\n",
      "root = \"C:/Users/Xead/Documents/SimpleWikiCrawler/\"\n",
      "x = os.listdir(root)\n",
      "print x\n",
      "print [y for y in x if os.path.isdir(os.path.join(root, y))]\n"
     ],
     "language": "python",
     "metadata": {},
     "outputs": [
      {
       "output_type": "stream",
       "stream": "stdout",
       "text": [
        "['.idea', 'docs', 'graph.txt', 'links_extractor.py', 'links_extractor.pyc', 'link_id_map.txt', 'ngraph.txt', 'old', 'wiki_parser.py']\n",
        "['.idea', 'docs', 'old']\n"
       ]
      }
     ],
     "prompt_number": 29
    },
    {
     "cell_type": "code",
     "collapsed": false,
     "input": [
      "os.listdir?"
     ],
     "language": "python",
     "metadata": {},
     "outputs": [],
     "prompt_number": 30
    },
    {
     "cell_type": "code",
     "collapsed": false,
     "input": [],
     "language": "python",
     "metadata": {},
     "outputs": []
    },
    {
     "cell_type": "heading",
     "level": 1,
     "metadata": {},
     "source": [
      "\u041a\u043b\u0430\u0441\u0441\u044b \u0432 Python"
     ]
    },
    {
     "cell_type": "code",
     "collapsed": false,
     "input": [
      "class Foo(object):\n",
      "    def __init__(self):\n",
      "        self.x = 1\n",
      "        self.y = 2\n",
      "        print \"Foo\"\n",
      "    \n",
      "    def __my_method(self, z):\n",
      "        print z\n",
      "        \n",
      "    def f(self, z):\n",
      "        self.__my_method(z)\n",
      "\n",
      "foo = Foo()\n",
      "print foo.x, foo.y\n",
      "foo.f(123)"
     ],
     "language": "python",
     "metadata": {},
     "outputs": [
      {
       "output_type": "stream",
       "stream": "stdout",
       "text": [
        "Foo\n",
        "1 2\n",
        "123\n"
       ]
      }
     ],
     "prompt_number": 37
    },
    {
     "cell_type": "code",
     "collapsed": false,
     "input": [
      "print foo"
     ],
     "language": "python",
     "metadata": {},
     "outputs": [
      {
       "output_type": "stream",
       "stream": "stdout",
       "text": [
        "<__main__.Foo instance at 0x0000000003981848>\n"
       ]
      }
     ],
     "prompt_number": 3
    },
    {
     "cell_type": "code",
     "collapsed": false,
     "input": [
      "print type(foo)"
     ],
     "language": "python",
     "metadata": {},
     "outputs": [
      {
       "output_type": "stream",
       "stream": "stdout",
       "text": [
        "<type 'instance'>\n"
       ]
      }
     ],
     "prompt_number": 4
    },
    {
     "cell_type": "heading",
     "level": 1,
     "metadata": {},
     "source": [
      "\u0414\u0435\u043a\u043e\u0440\u0430\u0442\u043e\u0440\u044b \u0432 Python"
     ]
    },
    {
     "cell_type": "code",
     "collapsed": false,
     "input": [
      "import time\n",
      "\n",
      "\n",
      "def timer(f):\n",
      "    def tmp(*args, **kwargs):\n",
      "        t = time.time()\n",
      "        res = f(*args, **kwargs)\n",
      "        print \"\u0412\u0440\u0435\u043c\u044f \u0432\u044b\u043f\u043e\u043b\u043d\u0435\u043d\u0438\u044f \u0444\u0443\u043d\u043a\u0446\u0438\u0438 %s: %f\" % (str(f), (time.time()-t))\n",
      "        return res\n",
      "\n",
      "    return tmp\n",
      "\n",
      "\n",
      "def memoized(f):\n",
      "    memory = {}\n",
      "\n",
      "    def wrapper(*args, **kwargs):\n",
      "        key = (tuple(args), hash(tuple(sorted(kwargs.items()))))\n",
      "        if not key in memory:\n",
      "            memory[key] = f(*args, **kwargs)\n",
      "        return memory[key]\n",
      "    return wrapper"
     ],
     "language": "python",
     "metadata": {},
     "outputs": [],
     "prompt_number": 5
    },
    {
     "cell_type": "code",
     "collapsed": false,
     "input": [
      "@timer\n",
      "@memoized\n",
      "def sqr(x):\n",
      "    return x ** 19000\n",
      "\n",
      "#sqr = timer(sqr)\n",
      "\n",
      "for k in range(50):\n",
      "    sqr(3 ** 7)"
     ],
     "language": "python",
     "metadata": {},
     "outputs": [
      {
       "output_type": "stream",
       "stream": "stdout",
       "text": [
        "\u0412\u0440\u0435\u043c\u044f \u0432\u044b\u043f\u043e\u043b\u043d\u0435\u043d\u0438\u044f \u0444\u0443\u043d\u043a\u0446\u0438\u0438 <function wrapper at 0x0000000003A5BF98>: 0.009000\n",
        "\u0412\u0440\u0435\u043c\u044f \u0432\u044b\u043f\u043e\u043b\u043d\u0435\u043d\u0438\u044f \u0444\u0443\u043d\u043a\u0446\u0438\u0438 <function wrapper at 0x0000000003A5BF98>: 0.000000\n",
        "\u0412\u0440\u0435\u043c\u044f \u0432\u044b\u043f\u043e\u043b\u043d\u0435\u043d\u0438\u044f \u0444\u0443\u043d\u043a\u0446\u0438\u0438 <function wrapper at 0x0000000003A5BF98>: 0.000000\n",
        "\u0412\u0440\u0435\u043c\u044f \u0432\u044b\u043f\u043e\u043b\u043d\u0435\u043d\u0438\u044f \u0444\u0443\u043d\u043a\u0446\u0438\u0438 <function wrapper at 0x0000000003A5BF98>: 0.000000\n",
        "\u0412\u0440\u0435\u043c\u044f \u0432\u044b\u043f\u043e\u043b\u043d\u0435\u043d\u0438\u044f \u0444\u0443\u043d\u043a\u0446\u0438\u0438 <function wrapper at 0x0000000003A5BF98>: 0.000000\n",
        "\u0412\u0440\u0435\u043c\u044f \u0432\u044b\u043f\u043e\u043b\u043d\u0435\u043d\u0438\u044f \u0444\u0443\u043d\u043a\u0446\u0438\u0438 <function wrapper at 0x0000000003A5BF98>: 0.000000\n",
        "\u0412\u0440\u0435\u043c\u044f \u0432\u044b\u043f\u043e\u043b\u043d\u0435\u043d\u0438\u044f \u0444\u0443\u043d\u043a\u0446\u0438\u0438 <function wrapper at 0x0000000003A5BF98>: 0.000000\n",
        "\u0412\u0440\u0435\u043c\u044f \u0432\u044b\u043f\u043e\u043b\u043d\u0435\u043d\u0438\u044f \u0444\u0443\u043d\u043a\u0446\u0438\u0438 <function wrapper at 0x0000000003A5BF98>: 0.000000\n",
        "\u0412\u0440\u0435\u043c\u044f \u0432\u044b\u043f\u043e\u043b\u043d\u0435\u043d\u0438\u044f \u0444\u0443\u043d\u043a\u0446\u0438\u0438 <function wrapper at 0x0000000003A5BF98>: 0.000000\n",
        "\u0412\u0440\u0435\u043c\u044f \u0432\u044b\u043f\u043e\u043b\u043d\u0435\u043d\u0438\u044f \u0444\u0443\u043d\u043a\u0446\u0438\u0438 <function wrapper at 0x0000000003A5BF98>: 0.000000\n",
        "\u0412\u0440\u0435\u043c\u044f \u0432\u044b\u043f\u043e\u043b\u043d\u0435\u043d\u0438\u044f \u0444\u0443\u043d\u043a\u0446\u0438\u0438 <function wrapper at 0x0000000003A5BF98>: 0.000000\n",
        "\u0412\u0440\u0435\u043c\u044f \u0432\u044b\u043f\u043e\u043b\u043d\u0435\u043d\u0438\u044f \u0444\u0443\u043d\u043a\u0446\u0438\u0438 <function wrapper at 0x0000000003A5BF98>: 0.000000\n",
        "\u0412\u0440\u0435\u043c\u044f \u0432\u044b\u043f\u043e\u043b\u043d\u0435\u043d\u0438\u044f \u0444\u0443\u043d\u043a\u0446\u0438\u0438 <function wrapper at 0x0000000003A5BF98>: 0.000000\n",
        "\u0412\u0440\u0435\u043c\u044f \u0432\u044b\u043f\u043e\u043b\u043d\u0435\u043d\u0438\u044f \u0444\u0443\u043d\u043a\u0446\u0438\u0438 <function wrapper at 0x0000000003A5BF98>: 0.000000\n",
        "\u0412\u0440\u0435\u043c\u044f \u0432\u044b\u043f\u043e\u043b\u043d\u0435\u043d\u0438\u044f \u0444\u0443\u043d\u043a\u0446\u0438\u0438 <function wrapper at 0x0000000003A5BF98>: 0.000000\n",
        "\u0412\u0440\u0435\u043c\u044f \u0432\u044b\u043f\u043e\u043b\u043d\u0435\u043d\u0438\u044f \u0444\u0443\u043d\u043a\u0446\u0438\u0438 <function wrapper at 0x0000000003A5BF98>: 0.000000\n",
        "\u0412\u0440\u0435\u043c\u044f \u0432\u044b\u043f\u043e\u043b\u043d\u0435\u043d\u0438\u044f \u0444\u0443\u043d\u043a\u0446\u0438\u0438 <function wrapper at 0x0000000003A5BF98>: 0.000000\n",
        "\u0412\u0440\u0435\u043c\u044f \u0432\u044b\u043f\u043e\u043b\u043d\u0435\u043d\u0438\u044f \u0444\u0443\u043d\u043a\u0446\u0438\u0438 <function wrapper at 0x0000000003A5BF98>: 0.000000\n",
        "\u0412\u0440\u0435\u043c\u044f \u0432\u044b\u043f\u043e\u043b\u043d\u0435\u043d\u0438\u044f \u0444\u0443\u043d\u043a\u0446\u0438\u0438 <function wrapper at 0x0000000003A5BF98>: 0.000000\n",
        "\u0412\u0440\u0435\u043c\u044f \u0432\u044b\u043f\u043e\u043b\u043d\u0435\u043d\u0438\u044f \u0444\u0443\u043d\u043a\u0446\u0438\u0438 <function wrapper at 0x0000000003A5BF98>: 0.000000\n",
        "\u0412\u0440\u0435\u043c\u044f \u0432\u044b\u043f\u043e\u043b\u043d\u0435\u043d\u0438\u044f \u0444\u0443\u043d\u043a\u0446\u0438\u0438 <function wrapper at 0x0000000003A5BF98>: 0.000000\n",
        "\u0412\u0440\u0435\u043c\u044f \u0432\u044b\u043f\u043e\u043b\u043d\u0435\u043d\u0438\u044f \u0444\u0443\u043d\u043a\u0446\u0438\u0438 <function wrapper at 0x0000000003A5BF98>: 0.000000\n",
        "\u0412\u0440\u0435\u043c\u044f \u0432\u044b\u043f\u043e\u043b\u043d\u0435\u043d\u0438\u044f \u0444\u0443\u043d\u043a\u0446\u0438\u0438 <function wrapper at 0x0000000003A5BF98>: 0.000000\n",
        "\u0412\u0440\u0435\u043c\u044f \u0432\u044b\u043f\u043e\u043b\u043d\u0435\u043d\u0438\u044f \u0444\u0443\u043d\u043a\u0446\u0438\u0438 <function wrapper at 0x0000000003A5BF98>: 0.000000\n",
        "\u0412\u0440\u0435\u043c\u044f \u0432\u044b\u043f\u043e\u043b\u043d\u0435\u043d\u0438\u044f \u0444\u0443\u043d\u043a\u0446\u0438\u0438 <function wrapper at 0x0000000003A5BF98>: 0.000000\n",
        "\u0412\u0440\u0435\u043c\u044f \u0432\u044b\u043f\u043e\u043b\u043d\u0435\u043d\u0438\u044f \u0444\u0443\u043d\u043a\u0446\u0438\u0438 <function wrapper at 0x0000000003A5BF98>: 0.000000\n",
        "\u0412\u0440\u0435\u043c\u044f \u0432\u044b\u043f\u043e\u043b\u043d\u0435\u043d\u0438\u044f \u0444\u0443\u043d\u043a\u0446\u0438\u0438 <function wrapper at 0x0000000003A5BF98>: 0.000000\n",
        "\u0412\u0440\u0435\u043c\u044f \u0432\u044b\u043f\u043e\u043b\u043d\u0435\u043d\u0438\u044f \u0444\u0443\u043d\u043a\u0446\u0438\u0438 <function wrapper at 0x0000000003A5BF98>: 0.000000\n",
        "\u0412\u0440\u0435\u043c\u044f \u0432\u044b\u043f\u043e\u043b\u043d\u0435\u043d\u0438\u044f \u0444\u0443\u043d\u043a\u0446\u0438\u0438 <function wrapper at 0x0000000003A5BF98>: 0.000000\n",
        "\u0412\u0440\u0435\u043c\u044f \u0432\u044b\u043f\u043e\u043b\u043d\u0435\u043d\u0438\u044f \u0444\u0443\u043d\u043a\u0446\u0438\u0438 <function wrapper at 0x0000000003A5BF98>: 0.000000\n",
        "\u0412\u0440\u0435\u043c\u044f \u0432\u044b\u043f\u043e\u043b\u043d\u0435\u043d\u0438\u044f \u0444\u0443\u043d\u043a\u0446\u0438\u0438 <function wrapper at 0x0000000003A5BF98>: 0.000000\n",
        "\u0412\u0440\u0435\u043c\u044f \u0432\u044b\u043f\u043e\u043b\u043d\u0435\u043d\u0438\u044f \u0444\u0443\u043d\u043a\u0446\u0438\u0438 <function wrapper at 0x0000000003A5BF98>: 0.000000\n",
        "\u0412\u0440\u0435\u043c\u044f \u0432\u044b\u043f\u043e\u043b\u043d\u0435\u043d\u0438\u044f \u0444\u0443\u043d\u043a\u0446\u0438\u0438 <function wrapper at 0x0000000003A5BF98>: 0.000000\n",
        "\u0412\u0440\u0435\u043c\u044f \u0432\u044b\u043f\u043e\u043b\u043d\u0435\u043d\u0438\u044f \u0444\u0443\u043d\u043a\u0446\u0438\u0438 <function wrapper at 0x0000000003A5BF98>: 0.000000\n",
        "\u0412\u0440\u0435\u043c\u044f \u0432\u044b\u043f\u043e\u043b\u043d\u0435\u043d\u0438\u044f \u0444\u0443\u043d\u043a\u0446\u0438\u0438 <function wrapper at 0x0000000003A5BF98>: 0.000000\n",
        "\u0412\u0440\u0435\u043c\u044f \u0432\u044b\u043f\u043e\u043b\u043d\u0435\u043d\u0438\u044f \u0444\u0443\u043d\u043a\u0446\u0438\u0438 <function wrapper at 0x0000000003A5BF98>: 0.000000\n",
        "\u0412\u0440\u0435\u043c\u044f \u0432\u044b\u043f\u043e\u043b\u043d\u0435\u043d\u0438\u044f \u0444\u0443\u043d\u043a\u0446\u0438\u0438 <function wrapper at 0x0000000003A5BF98>: 0.000000\n",
        "\u0412\u0440\u0435\u043c\u044f \u0432\u044b\u043f\u043e\u043b\u043d\u0435\u043d\u0438\u044f \u0444\u0443\u043d\u043a\u0446\u0438\u0438 <function wrapper at 0x0000000003A5BF98>: 0.000000\n",
        "\u0412\u0440\u0435\u043c\u044f \u0432\u044b\u043f\u043e\u043b\u043d\u0435\u043d\u0438\u044f \u0444\u0443\u043d\u043a\u0446\u0438\u0438 <function wrapper at 0x0000000003A5BF98>: 0.000000\n",
        "\u0412\u0440\u0435\u043c\u044f \u0432\u044b\u043f\u043e\u043b\u043d\u0435\u043d\u0438\u044f \u0444\u0443\u043d\u043a\u0446\u0438\u0438 <function wrapper at 0x0000000003A5BF98>: 0.000000\n",
        "\u0412\u0440\u0435\u043c\u044f \u0432\u044b\u043f\u043e\u043b\u043d\u0435\u043d\u0438\u044f \u0444\u0443\u043d\u043a\u0446\u0438\u0438 <function wrapper at 0x0000000003A5BF98>: 0.000000\n",
        "\u0412\u0440\u0435\u043c\u044f \u0432\u044b\u043f\u043e\u043b\u043d\u0435\u043d\u0438\u044f \u0444\u0443\u043d\u043a\u0446\u0438\u0438 <function wrapper at 0x0000000003A5BF98>: 0.000000\n",
        "\u0412\u0440\u0435\u043c\u044f \u0432\u044b\u043f\u043e\u043b\u043d\u0435\u043d\u0438\u044f \u0444\u0443\u043d\u043a\u0446\u0438\u0438 <function wrapper at 0x0000000003A5BF98>: 0.000000\n",
        "\u0412\u0440\u0435\u043c\u044f \u0432\u044b\u043f\u043e\u043b\u043d\u0435\u043d\u0438\u044f \u0444\u0443\u043d\u043a\u0446\u0438\u0438 <function wrapper at 0x0000000003A5BF98>: 0.000000\n",
        "\u0412\u0440\u0435\u043c\u044f \u0432\u044b\u043f\u043e\u043b\u043d\u0435\u043d\u0438\u044f \u0444\u0443\u043d\u043a\u0446\u0438\u0438 <function wrapper at 0x0000000003A5BF98>: 0.000000\n",
        "\u0412\u0440\u0435\u043c\u044f \u0432\u044b\u043f\u043e\u043b\u043d\u0435\u043d\u0438\u044f \u0444\u0443\u043d\u043a\u0446\u0438\u0438 <function wrapper at 0x0000000003A5BF98>: 0.000000\n",
        "\u0412\u0440\u0435\u043c\u044f \u0432\u044b\u043f\u043e\u043b\u043d\u0435\u043d\u0438\u044f \u0444\u0443\u043d\u043a\u0446\u0438\u0438 <function wrapper at 0x0000000003A5BF98>: 0.000000\n",
        "\u0412\u0440\u0435\u043c\u044f \u0432\u044b\u043f\u043e\u043b\u043d\u0435\u043d\u0438\u044f \u0444\u0443\u043d\u043a\u0446\u0438\u0438 <function wrapper at 0x0000000003A5BF98>: 0.000000\n",
        "\u0412\u0440\u0435\u043c\u044f \u0432\u044b\u043f\u043e\u043b\u043d\u0435\u043d\u0438\u044f \u0444\u0443\u043d\u043a\u0446\u0438\u0438 <function wrapper at 0x0000000003A5BF98>: 0.000000\n",
        "\u0412\u0440\u0435\u043c\u044f \u0432\u044b\u043f\u043e\u043b\u043d\u0435\u043d\u0438\u044f \u0444\u0443\u043d\u043a\u0446\u0438\u0438 <function wrapper at 0x0000000003A5BF98>: 0.000000\n"
       ]
      }
     ],
     "prompt_number": 47
    },
    {
     "cell_type": "code",
     "collapsed": false,
     "input": [
      "class Foo:\n",
      "    def __init__(self):\n",
      "        print \"Foo\"\n",
      "\n",
      "    @property\n",
      "    def x(self):\n",
      "        return 1\n",
      "    \n",
      "foo = Foo()\n",
      "print Foo.x"
     ],
     "language": "python",
     "metadata": {},
     "outputs": [
      {
       "output_type": "stream",
       "stream": "stdout",
       "text": [
        "Foo\n",
        "<property object at 0x0000000003A398B8>\n"
       ]
      }
     ],
     "prompt_number": 48
    },
    {
     "cell_type": "heading",
     "level": 1,
     "metadata": {},
     "source": [
      "Beautiful Soup, urllib \u0438 chardet: \u043f\u0430\u0440\u0441\u0438\u043c \u0432\u0435\u0431-\u0441\u0442\u0440\u0430\u043d\u0438\u0446\u044b"
     ]
    },
    {
     "cell_type": "code",
     "collapsed": false,
     "input": [
      "from collections import deque\n",
      "import codecs\n",
      "import os\n",
      "import time\n",
      "import urllib2\n",
      "import chardet\n",
      "\n",
      "site = \"http://simple.wikipedia.org\"\n",
      "\n",
      "def read_url(name):\n",
      "    html = urllib2.urlopen(name).read()\n",
      "    encoding = chardet.detect(html)['encoding']\n",
      "    if encoding != 'unicode':\n",
      "        html = html.decode(encoding)\n",
      "    return html\n",
      "\n",
      "\n",
      "def parse_url(name):\n",
      "    html = read_url(name)\n",
      "    soup = bs4.BeautifulSoup(html)\n",
      "\n",
      "    wiki = \"/wiki/\"\n",
      "\n",
      "    return [x for x in [hit.attrs.get(\"href\",\"\") for hit in soup.findAll('a')] if x[:len(wiki)] == wiki]\n",
      "\n",
      "def save_html(link, link_id, docs_folder):\n",
      "        html = read_url(link)\n",
      "        out_file = codecs.open(os.path.join(docs_folder, str(link_id) + \".html\"), \"w\", \"utf-8\")\n",
      "        print >> out_file, html\n",
      "\n",
      "\n",
      "def crawl(start_link=\"/wiki/Main_Page\"):\n",
      "    queue = deque([start_link])\n",
      "    id_queue = deque([0])\n",
      "\n",
      "    cur_id = 0\n",
      "\n",
      "    visited = dict()\n",
      "\n",
      "    links_id_map = codecs.open(\"link_id_map.txt\", \"w\", \"utf-8\")\n",
      "    graph = codecs.open(\"graph.txt\", \"w\", \"utf-8\")\n",
      "    visited[start_link] = 0\n",
      "\n",
      "    while queue:\n",
      "        link = site + queue.popleft()\n",
      "        print link\n",
      "        link_id = id_queue.popleft()\n",
      "\n",
      "        try:\n",
      "            try:\n",
      "                save_html(link, link_id, \"./docs/\")\n",
      "            except:\n",
      "                time.sleep(60)\n",
      "                save_html(link, link_id, \"./docs/\")\n",
      "\n",
      "            print >> links_id_map, link_id, link\n",
      "\n",
      "\n",
      "            links = parse_url(link)\n",
      "\n",
      "            links_ids = []\n",
      "            for lnk in links:\n",
      "                if lnk in visited.keys():\n",
      "                    links_ids.append(visited[lnk])\n",
      "                else:\n",
      "                    cur_id += 1\n",
      "                    visited[lnk] = cur_id\n",
      "                    queue.append(lnk)\n",
      "                    id_queue.append(cur_id)\n",
      "\n",
      "            print >> graph, str(link_id) + \":\" + \",\".join([str(i) for i in links_ids])\n",
      "        except:\n",
      "            pass"
     ],
     "language": "python",
     "metadata": {},
     "outputs": []
    }
   ],
   "metadata": {}
  }
 ]
}